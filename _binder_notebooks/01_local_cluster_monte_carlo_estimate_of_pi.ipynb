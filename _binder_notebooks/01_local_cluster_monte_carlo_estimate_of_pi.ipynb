{
 "cells": [
  {
   "cell_type": "markdown",
   "metadata": {},
   "source": [
    "# Monte-Carlo Estimate of $\\pi$\n",
    "\n",
    "We want to estimate the number $\\pi$ using a [Monte-Carlo method](https://en.wikipedia.org/wiki/Pi#Monte_Carlo_methods) exploiting that the area of a quarter circle of unit radius is $\\pi/4$ and that hence the probability of any randomly chosen point in a unit square to lie in a unit circle centerd at a corner of the unit square is $\\pi/4$ as well.  So for N randomly chosen pairs $(x, y)$ with $x\\in[0, 1)$ and $y\\in[0, 1)$, we count the number $N_{circ}$ of pairs that also satisfy $(x^2 + y^2) < 1$ and estimage $\\pi \\approx 4 \\cdot N_{circ} / N$.\n",
    "\n",
    "[<img src=\"https://upload.wikimedia.org/wikipedia/commons/8/84/Pi_30K.gif\" \n",
    "     width=\"50%\" \n",
    "     align=top\n",
    "     alt=\"PI monte-carlo estimate\">](https://en.wikipedia.org/wiki/Pi#Monte_Carlo_methods)"
   ]
  },
  {
   "cell_type": "markdown",
   "metadata": {},
   "source": [
    "## Core Lessons\n",
    "\n",
    "- short Dask recap (assuming that `LocalCluster`, `Client`, and `dask.array` are familiar)\n",
    "- Scaling (local) clusters\n",
    "- Adaptive (local) clusters"
   ]
  },
  {
   "cell_type": "markdown",
   "metadata": {},
   "source": [
    "## Set up a local cluster"
   ]
  },
  {
   "cell_type": "code",
   "execution_count": 1,
   "metadata": {},
   "outputs": [],
   "source": [
    "from dask.distributed import LocalCluster, Client"
   ]
  },
  {
   "cell_type": "code",
   "execution_count": 2,
   "metadata": {},
   "outputs": [
    {
     "data": {
      "text/html": [
       "<table style=\"border: 2px solid white;\">\n",
       "<tr>\n",
       "<td style=\"vertical-align: top; border: 0px solid white\">\n",
       "<h3>Client</h3>\n",
       "<ul>\n",
       "  <li><b>Scheduler: </b>tcp://127.0.0.1:41403\n",
       "  <li><b>Dashboard: </b><a href='http://127.0.0.1:8787/status' target='_blank'>http://127.0.0.1:8787/status</a>\n",
       "</ul>\n",
       "</td>\n",
       "<td style=\"vertical-align: top; border: 0px solid white\">\n",
       "<h3>Cluster</h3>\n",
       "<ul>\n",
       "  <li><b>Workers: </b>1</li>\n",
       "  <li><b>Cores: </b>1</li>\n",
       "  <li><b>Memory: </b>1000.00 MB</li>\n",
       "</ul>\n",
       "</td>\n",
       "</tr>\n",
       "</table>"
      ],
      "text/plain": [
       "<Client: scheduler='tcp://127.0.0.1:41403' processes=1 cores=1>"
      ]
     },
     "execution_count": 2,
     "metadata": {},
     "output_type": "execute_result"
    }
   ],
   "source": [
    "cluster = LocalCluster(n_workers=1, threads_per_worker=1, memory_limit=1e9)\n",
    "client = Client(cluster)\n",
    "client"
   ]
  },
  {
   "cell_type": "markdown",
   "metadata": {},
   "source": [
    "## The Monte Carlo Method"
   ]
  },
  {
   "cell_type": "code",
   "execution_count": 3,
   "metadata": {},
   "outputs": [],
   "source": [
    "import dask.array as da\n",
    "import numpy as np"
   ]
  },
  {
   "cell_type": "code",
   "execution_count": 4,
   "metadata": {},
   "outputs": [],
   "source": [
    "def calc_pi_mc(size_in_bytes):\n",
    "    \"\"\"Calculate PI using a Monte Carlo estimate.\"\"\"\n",
    "    xy = da.random.uniform(0, 1,\n",
    "                           size=(int(size_in_bytes / 8 / 2), 2),\n",
    "                           chunks=(100e6 / 8, 2))\n",
    "    \n",
    "    in_circle = ((xy ** 2).sum(axis=-1) < 1)\n",
    "    pi = 4 * in_circle.mean()\n",
    "\n",
    "    return pi.compute()"
   ]
  },
  {
   "cell_type": "code",
   "execution_count": 5,
   "metadata": {},
   "outputs": [],
   "source": [
    "def print_pi_stats(size, pi, time_delta, num_workers):\n",
    "    \"\"\"Print pi, calculate offset from true value, and print some stats.\"\"\"\n",
    "    print(f\"{size / 1e9} GB\\n\"\n",
    "          f\"\\tMC pi: {pi : 13.11f}\"\n",
    "          f\"\\tErr: {abs(pi - np.pi) : 10.3e}\\n\"\n",
    "          f\"\\tWorkers: {num_workers}\"\n",
    "          f\"\\t\\tTime: {time_delta : 7.3f}s\")"
   ]
  },
  {
   "cell_type": "markdown",
   "metadata": {},
   "source": [
    "## The actual calculations\n",
    "\n",
    "We loop over different volumes of double-precision random numbers and estimate $\\pi$ as described above."
   ]
  },
  {
   "cell_type": "code",
   "execution_count": 6,
   "metadata": {},
   "outputs": [],
   "source": [
    "from time import time"
   ]
  },
  {
   "cell_type": "code",
   "execution_count": 7,
   "metadata": {},
   "outputs": [
    {
     "name": "stdout",
     "output_type": "stream",
     "text": [
      "1.0 GB\n",
      "\tMC pi:  3.14127948800\tErr:  3.132e-04\n",
      "\tWorkers: 1\t\tTime:   5.114s\n",
      "2.0 GB\n",
      "\tMC pi:  3.14166908800\tErr:  7.643e-05\n",
      "\tWorkers: 1\t\tTime:  10.141s\n",
      "3.0 GB\n",
      "\tMC pi:  3.14187464533\tErr:  2.820e-04\n",
      "\tWorkers: 1\t\tTime:  15.123s\n"
     ]
    }
   ],
   "source": [
    "for size in (1e9 * n for n in (1, 2, 3)):\n",
    "    \n",
    "    start = time()\n",
    "    pi = calc_pi_mc(size)\n",
    "    elaps = time() - start\n",
    "\n",
    "    print_pi_stats(size, pi,\n",
    "                   time_delta=elaps,\n",
    "                   num_workers=len(cluster.workers))"
   ]
  },
  {
   "cell_type": "markdown",
   "metadata": {},
   "source": [
    "## Scaling the Cluster\n",
    "\n",
    "We increase the number of workers by 2 and the re-run the experiments."
   ]
  },
  {
   "cell_type": "code",
   "execution_count": 8,
   "metadata": {},
   "outputs": [],
   "source": [
    "from time import sleep"
   ]
  },
  {
   "cell_type": "code",
   "execution_count": 9,
   "metadata": {},
   "outputs": [
    {
     "name": "stdout",
     "output_type": "stream",
     "text": [
      "Scaling from 1 to 2 workers.\n"
     ]
    }
   ],
   "source": [
    "new_num_workers = 2 * len(cluster.workers)\n",
    "\n",
    "print(f\"Scaling from {len(cluster.workers)} to {new_num_workers} workers.\")\n",
    "\n",
    "cluster.scale(new_num_workers)\n",
    "\n",
    "sleep(3)"
   ]
  },
  {
   "cell_type": "code",
   "execution_count": 10,
   "metadata": {},
   "outputs": [
    {
     "data": {
      "text/html": [
       "<table style=\"border: 2px solid white;\">\n",
       "<tr>\n",
       "<td style=\"vertical-align: top; border: 0px solid white\">\n",
       "<h3>Client</h3>\n",
       "<ul>\n",
       "  <li><b>Scheduler: </b>tcp://127.0.0.1:41403\n",
       "  <li><b>Dashboard: </b><a href='http://127.0.0.1:8787/status' target='_blank'>http://127.0.0.1:8787/status</a>\n",
       "</ul>\n",
       "</td>\n",
       "<td style=\"vertical-align: top; border: 0px solid white\">\n",
       "<h3>Cluster</h3>\n",
       "<ul>\n",
       "  <li><b>Workers: </b>2</li>\n",
       "  <li><b>Cores: </b>2</li>\n",
       "  <li><b>Memory: </b>2.00 GB</li>\n",
       "</ul>\n",
       "</td>\n",
       "</tr>\n",
       "</table>"
      ],
      "text/plain": [
       "<Client: scheduler='tcp://127.0.0.1:41403' processes=2 cores=2>"
      ]
     },
     "execution_count": 10,
     "metadata": {},
     "output_type": "execute_result"
    }
   ],
   "source": [
    "client"
   ]
  },
  {
   "cell_type": "code",
   "execution_count": 11,
   "metadata": {},
   "outputs": [
    {
     "name": "stdout",
     "output_type": "stream",
     "text": [
      "1.0 GB\n",
      "\tMC pi:  3.14160531200\tErr:  1.266e-05\n",
      "\tWorkers: 2\t\tTime:   3.171s\n",
      "2.0 GB\n",
      "\tMC pi:  3.14142736000\tErr:  1.653e-04\n",
      "\tWorkers: 2\t\tTime:   5.252s\n",
      "3.0 GB\n",
      "\tMC pi:  3.14184736000\tErr:  2.547e-04\n",
      "\tWorkers: 2\t\tTime:   8.289s\n"
     ]
    }
   ],
   "source": [
    "for size in (1e9 * n for n in (1, 2, 3)):\n",
    "    \n",
    "    start = time()\n",
    "    pi = calc_pi_mc(size)\n",
    "    elaps = time() - start\n",
    "    print_pi_stats(size, pi, time_delta=elaps,\n",
    "                   num_workers=len(cluster.workers))"
   ]
  },
  {
   "cell_type": "markdown",
   "metadata": {},
   "source": [
    "## Automatically Scaling the Cluster\n",
    "\n",
    "We want each calculation to take approximately the same time irrespective of the actual work load.\n",
    "\n",
    "_**Watch** how the cluster will scale down to the minimum a few (three!) seconds after being made adaptive._"
   ]
  },
  {
   "cell_type": "code",
   "execution_count": 17,
   "metadata": {},
   "outputs": [],
   "source": [
    "# Check docstring of distributed.Adaptive for keywords\n",
    "ca = cluster.adapt(\n",
    "    minimum=1, maximum=4,\n",
    "    target_duration=\"10s\",\n",
    "    scale_factor=1);\n",
    "\n",
    "sleep(4)  # Allow for scale-down"
   ]
  },
  {
   "cell_type": "code",
   "execution_count": 18,
   "metadata": {},
   "outputs": [
    {
     "data": {
      "text/html": [
       "<table style=\"border: 2px solid white;\">\n",
       "<tr>\n",
       "<td style=\"vertical-align: top; border: 0px solid white\">\n",
       "<h3>Client</h3>\n",
       "<ul>\n",
       "  <li><b>Scheduler: </b>tcp://127.0.0.1:41403\n",
       "  <li><b>Dashboard: </b><a href='http://127.0.0.1:8787/status' target='_blank'>http://127.0.0.1:8787/status</a>\n",
       "</ul>\n",
       "</td>\n",
       "<td style=\"vertical-align: top; border: 0px solid white\">\n",
       "<h3>Cluster</h3>\n",
       "<ul>\n",
       "  <li><b>Workers: </b>1</li>\n",
       "  <li><b>Cores: </b>1</li>\n",
       "  <li><b>Memory: </b>1000.00 MB</li>\n",
       "</ul>\n",
       "</td>\n",
       "</tr>\n",
       "</table>"
      ],
      "text/plain": [
       "<Client: scheduler='tcp://127.0.0.1:41403' processes=1 cores=1>"
      ]
     },
     "execution_count": 18,
     "metadata": {},
     "output_type": "execute_result"
    }
   ],
   "source": [
    "client"
   ]
  },
  {
   "cell_type": "markdown",
   "metadata": {},
   "source": [
    "Repeat the calculation from above with larger work loads.  (And watch the dash board!)"
   ]
  },
  {
   "cell_type": "code",
   "execution_count": null,
   "metadata": {},
   "outputs": [
    {
     "name": "stdout",
     "output_type": "stream",
     "text": [
      "2.0 GB\n",
      "\tMC pi:  3.14154998400\tErr:  4.267e-05\n",
      "\tWorkers: 2\t\tTime:   6.208s\n",
      "4.0 GB\n",
      "\tMC pi:  3.14154673600\tErr:  4.592e-05\n",
      "\tWorkers: 3\t\tTime:   8.414s\n",
      "8.0 GB\n",
      "\tMC pi:  3.14142765600\tErr:  1.650e-04\n",
      "\tWorkers: 4\t\tTime:  12.693s\n"
     ]
    }
   ],
   "source": [
    "for size in (n * 1e9 for n in (2, 4, 8)):\n",
    "    \n",
    "    start = time()\n",
    "    pi = calc_pi_mc(size)\n",
    "    elaps = time() - start\n",
    "    \n",
    "    print_pi_stats(size, pi, time_delta=elaps,\n",
    "                   num_workers=len(cluster.workers))\n",
    "    \n",
    "    sleep(4)  # allow for scale-down time"
   ]
  },
  {
   "cell_type": "markdown",
   "metadata": {},
   "source": [
    "## Complete listing of software used here"
   ]
  },
  {
   "cell_type": "code",
   "execution_count": 15,
   "metadata": {},
   "outputs": [
    {
     "name": "stdout",
     "output_type": "stream",
     "text": [
      "Package            Version \n",
      "------------------ --------\n",
      "asn1crypto         0.24.0  \n",
      "attrs              19.1.0  \n",
      "backcall           0.1.0   \n",
      "bleach             3.1.0   \n",
      "bokeh              1.2.0   \n",
      "certifi            2019.3.9\n",
      "cffi               1.12.3  \n",
      "chardet            3.0.4   \n",
      "Click              7.0     \n",
      "cloudpickle        1.2.1   \n",
      "conda              4.6.14  \n",
      "cryptography       2.7     \n",
      "cytoolz            0.9.0.1 \n",
      "dask               1.2.2   \n",
      "dask-jobqueue      0.5.0   \n",
      "decorator          4.4.0   \n",
      "defusedxml         0.5.0   \n",
      "distributed        1.28.1  \n",
      "docrep             0.2.7   \n",
      "entrypoints        0.3     \n",
      "heapdict           1.0.0   \n",
      "idna               2.8     \n",
      "ipykernel          5.1.1   \n",
      "ipython            7.5.0   \n",
      "ipython-genutils   0.2.0   \n",
      "ipywidgets         7.4.2   \n",
      "jedi               0.13.3  \n",
      "Jinja2             2.10.1  \n",
      "jsonschema         3.0.1   \n",
      "jupyter-client     5.2.4   \n",
      "jupyter-core       4.4.0   \n",
      "jupyterlab         0.35.6  \n",
      "jupyterlab-server  0.2.0   \n",
      "locket             0.2.0   \n",
      "MarkupSafe         1.1.1   \n",
      "mistune            0.8.4   \n",
      "msgpack            0.6.1   \n",
      "nbconvert          5.5.0   \n",
      "nbformat           4.4.0   \n",
      "notebook           5.7.8   \n",
      "numpy              1.16.4  \n",
      "olefile            0.46    \n",
      "packaging          19.0    \n",
      "pandas             0.24.2  \n",
      "pandocfilters      1.4.2   \n",
      "parso              0.4.0   \n",
      "partd              0.3.10  \n",
      "pexpect            4.7.0   \n",
      "pickleshare        0.7.5   \n",
      "Pillow             6.0.0   \n",
      "pip                19.1.1  \n",
      "prometheus-client  0.7.0   \n",
      "prompt-toolkit     2.0.9   \n",
      "psutil             5.6.3   \n",
      "ptyprocess         0.6.0   \n",
      "pycosat            0.6.3   \n",
      "pycparser          2.19    \n",
      "Pygments           2.4.2   \n",
      "pyOpenSSL          19.0.0  \n",
      "pyparsing          2.4.0   \n",
      "pyrsistent         0.15.2  \n",
      "PySocks            1.7.0   \n",
      "python-dateutil    2.8.0   \n",
      "pytz               2019.1  \n",
      "PyYAML             5.1.1   \n",
      "pyzmq              18.0.1  \n",
      "requests           2.22.0  \n",
      "ruamel-yaml        0.15.71 \n",
      "Send2Trash         1.5.0   \n",
      "setuptools         41.0.1  \n",
      "six                1.12.0  \n",
      "sortedcontainers   2.1.0   \n",
      "tblib              1.4.0   \n",
      "terminado          0.8.2   \n",
      "testpath           0.4.2   \n",
      "toolz              0.9.0   \n",
      "tornado            6.0.2   \n",
      "traitlets          4.3.2   \n",
      "urllib3            1.24.3  \n",
      "wcwidth            0.1.7   \n",
      "webencodings       0.5.1   \n",
      "wheel              0.33.4  \n",
      "widgetsnbextension 3.4.2   \n",
      "zict               0.1.4   \n",
      "Note: you may need to restart the kernel to use updated packages.\n"
     ]
    }
   ],
   "source": [
    "%pip list"
   ]
  },
  {
   "cell_type": "code",
   "execution_count": 16,
   "metadata": {},
   "outputs": [
    {
     "name": "stdout",
     "output_type": "stream",
     "text": [
      "# This file may be used to create an environment using:\n",
      "# $ conda create --name <env> --file <this file>\n",
      "# platform: linux-64\n",
      "@EXPLICIT\n",
      "https://conda.anaconda.org/conda-forge/linux-64/ca-certificates-2019.6.16-hecc5488_0.tar.bz2\n",
      "https://repo.anaconda.com/pkgs/main/linux-64/libgcc-ng-8.2.0-hdf63c60_1.tar.bz2\n",
      "https://conda.anaconda.org/conda-forge/linux-64/libgfortran-3.0.0-1.tar.bz2\n",
      "https://repo.anaconda.com/pkgs/main/linux-64/libstdcxx-ng-8.2.0-hdf63c60_1.tar.bz2\n",
      "https://conda.anaconda.org/conda-forge/linux-64/pandoc-2.7.3-0.tar.bz2\n",
      "https://conda.anaconda.org/conda-forge/linux-64/jpeg-9c-h14c3975_1001.tar.bz2\n",
      "https://repo.anaconda.com/pkgs/main/linux-64/libffi-3.2.1-hd88cf55_4.tar.bz2\n",
      "https://conda.anaconda.org/conda-forge/linux-64/libsodium-1.0.16-h14c3975_1001.tar.bz2\n",
      "https://conda.anaconda.org/conda-forge/linux-64/lz4-c-1.8.3-he1b5a44_1001.tar.bz2\n",
      "https://repo.anaconda.com/pkgs/main/linux-64/ncurses-6.1-he6710b0_1.tar.bz2\n",
      "https://conda.anaconda.org/conda-forge/linux-64/openblas-0.3.5-ha44fe06_0.tar.bz2\n",
      "https://conda.anaconda.org/conda-forge/linux-64/openssl-1.1.1b-h14c3975_1.tar.bz2\n",
      "https://repo.anaconda.com/pkgs/main/linux-64/xz-5.2.4-h14c3975_4.tar.bz2\n",
      "https://repo.anaconda.com/pkgs/main/linux-64/yaml-0.1.7-had09818_2.tar.bz2\n",
      "https://repo.anaconda.com/pkgs/main/linux-64/zlib-1.2.11-h7b6447c_3.tar.bz2\n",
      "https://conda.anaconda.org/conda-forge/linux-64/libblas-3.8.0-7_openblas.tar.bz2\n",
      "https://repo.anaconda.com/pkgs/main/linux-64/libedit-3.1.20181209-hc058e9b_0.tar.bz2\n",
      "https://conda.anaconda.org/conda-forge/linux-64/libpng-1.6.37-hed695b0_0.tar.bz2\n",
      "https://repo.anaconda.com/pkgs/main/linux-64/readline-7.0-h7b6447c_5.tar.bz2\n",
      "https://conda.anaconda.org/conda-forge/linux-64/tk-8.6.9-hed695b0_1002.tar.bz2\n",
      "https://conda.anaconda.org/conda-forge/linux-64/zeromq-4.3.1-hf484d3e_1000.tar.bz2\n",
      "https://conda.anaconda.org/conda-forge/linux-64/zstd-1.4.0-h3b9ef0a_0.tar.bz2\n",
      "https://conda.anaconda.org/conda-forge/linux-64/freetype-2.10.0-he983fc9_0.tar.bz2\n",
      "https://conda.anaconda.org/conda-forge/linux-64/libcblas-3.8.0-7_openblas.tar.bz2\n",
      "https://conda.anaconda.org/conda-forge/linux-64/liblapack-3.8.0-7_openblas.tar.bz2\n",
      "https://conda.anaconda.org/conda-forge/linux-64/libtiff-4.0.10-h57b8799_1003.tar.bz2\n",
      "https://repo.anaconda.com/pkgs/main/linux-64/sqlite-3.27.2-h7b6447c_0.tar.bz2\n",
      "https://conda.anaconda.org/conda-forge/linux-64/python-3.6.7-h381d211_1004.tar.bz2\n",
      "https://conda.anaconda.org/conda-forge/linux-64/asn1crypto-0.24.0-py36_1003.tar.bz2\n",
      "https://conda.anaconda.org/conda-forge/noarch/attrs-19.1.0-py_0.tar.bz2\n",
      "https://conda.anaconda.org/conda-forge/noarch/backcall-0.1.0-py_0.tar.bz2\n",
      "https://conda.anaconda.org/conda-forge/linux-64/certifi-2019.3.9-py36_0.tar.bz2\n",
      "https://conda.anaconda.org/conda-forge/linux-64/chardet-3.0.4-py36_1003.tar.bz2\n",
      "https://conda.anaconda.org/conda-forge/noarch/click-7.0-py_0.tar.bz2\n",
      "https://conda.anaconda.org/conda-forge/noarch/cloudpickle-1.2.1-py_0.tar.bz2\n",
      "https://conda.anaconda.org/conda-forge/noarch/dask-core-1.2.2-py_0.tar.bz2\n",
      "https://conda.anaconda.org/conda-forge/noarch/decorator-4.4.0-py_0.tar.bz2\n",
      "https://conda.anaconda.org/conda-forge/noarch/defusedxml-0.5.0-py_1.tar.bz2\n",
      "https://conda.anaconda.org/conda-forge/linux-64/entrypoints-0.3-py36_1000.tar.bz2\n",
      "https://conda.anaconda.org/conda-forge/linux-64/heapdict-1.0.0-py36_1000.tar.bz2\n",
      "https://conda.anaconda.org/conda-forge/linux-64/idna-2.8-py36_1000.tar.bz2\n",
      "https://conda.anaconda.org/conda-forge/noarch/ipython_genutils-0.2.0-py_1.tar.bz2\n",
      "https://conda.anaconda.org/conda-forge/noarch/locket-0.2.0-py_2.tar.bz2\n",
      "https://conda.anaconda.org/conda-forge/linux-64/markupsafe-1.1.1-py36h14c3975_0.tar.bz2\n",
      "https://conda.anaconda.org/conda-forge/linux-64/mistune-0.8.4-py36h14c3975_1000.tar.bz2\n",
      "https://conda.anaconda.org/conda-forge/linux-64/msgpack-python-0.6.1-py36h6bb024c_0.tar.bz2\n",
      "https://conda.anaconda.org/conda-forge/linux-64/numpy-1.16.4-py36h95a1406_0.tar.bz2\n",
      "https://conda.anaconda.org/conda-forge/noarch/olefile-0.46-py_0.tar.bz2\n",
      "https://conda.anaconda.org/conda-forge/noarch/pandocfilters-1.4.2-py_1.tar.bz2\n",
      "https://conda.anaconda.org/conda-forge/noarch/parso-0.4.0-py_0.tar.bz2\n",
      "https://conda.anaconda.org/conda-forge/linux-64/pickleshare-0.7.5-py36_1000.tar.bz2\n",
      "https://conda.anaconda.org/conda-forge/noarch/prometheus_client-0.7.0-py_0.tar.bz2\n",
      "https://conda.anaconda.org/conda-forge/linux-64/psutil-5.6.3-py36h516909a_0.tar.bz2\n",
      "https://conda.anaconda.org/conda-forge/noarch/ptyprocess-0.6.0-py_1001.tar.bz2\n",
      "https://conda.anaconda.org/conda-forge/linux-64/pycosat-0.6.3-py36h14c3975_1001.tar.bz2\n",
      "https://conda.anaconda.org/conda-forge/linux-64/pycparser-2.19-py36_1.tar.bz2\n",
      "https://conda.anaconda.org/conda-forge/noarch/pyparsing-2.4.0-py_0.tar.bz2\n",
      "https://conda.anaconda.org/conda-forge/linux-64/pysocks-1.7.0-py36_0.tar.bz2\n",
      "https://conda.anaconda.org/conda-forge/noarch/pytz-2019.1-py_0.tar.bz2\n",
      "https://conda.anaconda.org/conda-forge/linux-64/pyyaml-5.1.1-py36h516909a_0.tar.bz2\n",
      "https://conda.anaconda.org/conda-forge/linux-64/pyzmq-18.0.1-py36hc4ba49a_1.tar.bz2\n",
      "https://conda.anaconda.org/conda-forge/linux-64/ruamel_yaml-0.15.71-py36h14c3975_1000.tar.bz2\n",
      "https://conda.anaconda.org/conda-forge/noarch/send2trash-1.5.0-py_0.tar.bz2\n",
      "https://conda.anaconda.org/conda-forge/linux-64/six-1.12.0-py36_1000.tar.bz2\n",
      "https://conda.anaconda.org/conda-forge/noarch/sortedcontainers-2.1.0-py_0.tar.bz2\n",
      "https://conda.anaconda.org/conda-forge/noarch/tblib-1.4.0-py_0.tar.bz2\n",
      "https://conda.anaconda.org/conda-forge/noarch/testpath-0.4.2-py_1001.tar.bz2\n",
      "https://conda.anaconda.org/conda-forge/noarch/toolz-0.9.0-py_1.tar.bz2\n",
      "https://conda.anaconda.org/conda-forge/linux-64/tornado-6.0.2-py36h516909a_0.tar.bz2\n",
      "https://conda.anaconda.org/conda-forge/noarch/wcwidth-0.1.7-py_1.tar.bz2\n",
      "https://conda.anaconda.org/conda-forge/noarch/webencodings-0.5.1-py_1.tar.bz2\n",
      "https://conda.anaconda.org/conda-forge/linux-64/cffi-1.12.3-py36h8022711_0.tar.bz2\n",
      "https://conda.anaconda.org/conda-forge/linux-64/cytoolz-0.9.0.1-py36h14c3975_1001.tar.bz2\n",
      "https://conda.anaconda.org/conda-forge/noarch/docrep-0.2.7-py_0.tar.bz2\n",
      "https://conda.anaconda.org/conda-forge/linux-64/jedi-0.13.3-py36_0.tar.bz2\n",
      "https://conda.anaconda.org/conda-forge/noarch/packaging-19.0-py_0.tar.bz2\n",
      "https://conda.anaconda.org/conda-forge/noarch/partd-0.3.10-py_1.tar.bz2\n",
      "https://conda.anaconda.org/conda-forge/linux-64/pexpect-4.7.0-py36_0.tar.bz2\n",
      "https://conda.anaconda.org/conda-forge/linux-64/pillow-6.0.0-py36he7afcd5_0.tar.bz2\n",
      "https://conda.anaconda.org/conda-forge/linux-64/pyrsistent-0.15.2-py36h516909a_0.tar.bz2\n",
      "https://conda.anaconda.org/conda-forge/noarch/python-dateutil-2.8.0-py_0.tar.bz2\n",
      "https://conda.anaconda.org/conda-forge/linux-64/setuptools-41.0.1-py36_0.tar.bz2\n",
      "https://conda.anaconda.org/conda-forge/linux-64/terminado-0.8.2-py36_0.tar.bz2\n",
      "https://conda.anaconda.org/conda-forge/linux-64/traitlets-4.3.2-py36_1000.tar.bz2\n",
      "https://conda.anaconda.org/conda-forge/noarch/zict-0.1.4-py_0.tar.bz2\n",
      "https://conda.anaconda.org/conda-forge/noarch/bleach-3.1.0-py_0.tar.bz2\n",
      "https://conda.anaconda.org/conda-forge/linux-64/cryptography-2.7-py36h72c5cf5_0.tar.bz2\n",
      "https://conda.anaconda.org/conda-forge/linux-64/distributed-1.28.1-py36_0.tar.bz2\n",
      "https://conda.anaconda.org/conda-forge/noarch/jinja2-2.10.1-py_0.tar.bz2\n",
      "https://conda.anaconda.org/conda-forge/linux-64/jsonschema-3.0.1-py36_0.tar.bz2\n",
      "https://conda.anaconda.org/conda-forge/noarch/jupyter_core-4.4.0-py_0.tar.bz2\n",
      "https://conda.anaconda.org/conda-forge/linux-64/pandas-0.24.2-py36hb3f55d8_0.tar.bz2\n",
      "https://conda.anaconda.org/conda-forge/noarch/pygments-2.4.2-py_0.tar.bz2\n",
      "https://conda.anaconda.org/conda-forge/linux-64/wheel-0.33.4-py36_0.tar.bz2\n",
      "https://conda.anaconda.org/conda-forge/linux-64/bokeh-1.2.0-py36_0.tar.bz2\n",
      "https://conda.anaconda.org/conda-forge/noarch/jupyter_client-5.2.4-py_3.tar.bz2\n",
      "https://conda.anaconda.org/conda-forge/noarch/nbformat-4.4.0-py_1.tar.bz2\n",
      "https://conda.anaconda.org/conda-forge/linux-64/pip-19.1.1-py36_0.tar.bz2\n",
      "https://conda.anaconda.org/conda-forge/noarch/prompt_toolkit-2.0.9-py_0.tar.bz2\n",
      "https://conda.anaconda.org/conda-forge/linux-64/pyopenssl-19.0.0-py36_0.tar.bz2\n",
      "https://conda.anaconda.org/conda-forge/noarch/dask-1.2.2-py_3.tar.bz2\n",
      "https://conda.anaconda.org/conda-forge/linux-64/ipython-7.5.0-py36h24bf2e0_0.tar.bz2\n",
      "https://conda.anaconda.org/conda-forge/noarch/nbconvert-5.5.0-py_0.tar.bz2\n",
      "https://conda.anaconda.org/conda-forge/linux-64/urllib3-1.24.3-py36_0.tar.bz2\n",
      "https://conda.anaconda.org/conda-forge/noarch/dask-jobqueue-0.5.0-py_0.tar.bz2\n",
      "https://conda.anaconda.org/conda-forge/linux-64/ipykernel-5.1.1-py36h24bf2e0_0.tar.bz2\n",
      "https://conda.anaconda.org/conda-forge/linux-64/requests-2.22.0-py36_0.tar.bz2\n",
      "https://conda.anaconda.org/conda-forge/linux-64/conda-4.6.14-py36_0.tar.bz2\n",
      "https://conda.anaconda.org/conda-forge/linux-64/notebook-5.7.8-py36_1.tar.bz2\n",
      "https://conda.anaconda.org/conda-forge/noarch/jupyterlab_server-0.2.0-py_0.tar.bz2\n",
      "https://conda.anaconda.org/conda-forge/linux-64/widgetsnbextension-3.4.2-py36_1000.tar.bz2\n",
      "https://conda.anaconda.org/conda-forge/noarch/ipywidgets-7.4.2-py_0.tar.bz2\n",
      "https://conda.anaconda.org/conda-forge/linux-64/jupyterlab-0.35.6-py36_0.tar.bz2\n",
      "\n",
      "Note: you may need to restart the kernel to use updated packages.\n"
     ]
    }
   ],
   "source": [
    "%conda list --explicit"
   ]
  }
 ],
 "metadata": {
  "anaconda-cloud": {},
  "kernelspec": {
   "display_name": "Python 3",
   "language": "python",
   "name": "python3"
  },
  "language_info": {
   "codemirror_mode": {
    "name": "ipython",
    "version": 3
   },
   "file_extension": ".py",
   "mimetype": "text/x-python",
   "name": "python",
   "nbconvert_exporter": "python",
   "pygments_lexer": "ipython3",
   "version": "3.6.7"
  }
 },
 "nbformat": 4,
 "nbformat_minor": 2
}
